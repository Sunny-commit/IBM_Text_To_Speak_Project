{
  "nbformat": 4,
  "nbformat_minor": 0,
  "metadata": {
    "colab": {
      "provenance": []
    },
    "kernelspec": {
      "name": "python3",
      "display_name": "Python 3"
    },
    "language_info": {
      "name": "python"
    }
  },
  "cells": [
    {
      "cell_type": "code",
      "source": [
        "import requests\n",
        "import json\n",
        "import base64\n",
        "from pathlib import Path\n",
        "\n",
        "def convert_ad_to_speech(api_key, url, output_filename=\"ad_audio.wav\"):\n",
        "    \"\"\"\n",
        "    Converts ad copy to a WAV audio file using IBM Watson Text-to-Speech API\n",
        "    without SSML, relying on the voice's natural delivery.\n",
        "\n",
        "    Args:\n",
        "        api_key (str): Your IBM Watson API key.\n",
        "        url (str): The IBM Watson service URL.\n",
        "        output_filename (str, optional): The name of the output audio file.\n",
        "                                         Defaults to \"ad_audio.wav\".\n",
        "    \"\"\"\n",
        "    # The SSML text is hardcoded to ensure consistent ad delivery.\n",
        "    # It includes tags for pauses (<break>), emphasis (<emphasis>), and\n",
        "    # expressive style (<express-as>) to make the voice sound natural.\n",
        "    ssml_text = \"\"\"\n",
        "<speak>\n",
        "    You’re One PDF Away From Changing Everything\n",
        "\n",
        "    Tired of searching endlessly online, only to find outdated, half-baked content?\n",
        "\n",
        "    This PDF is not just another download. It’s a shortcut to what you actually need.\n",
        "\n",
        "    Why This PDF?\n",
        "\n",
        "    ✅ Proven strategies you won’t find for free\n",
        "    ✅ Actionable steps – no fluff, just results\n",
        "    ✅ Real-world value in every single page\n",
        "    ✅ Exclusive insights from [Your Niche/Field] experts\n",
        "\n",
        "    This is the exact resource that [thousands/yourself] used to [solve a problem/gain success]—and now, it’s your turn.\n",
        "\n",
        "    Limited-time launch offer: Get it now before the price doubles.\n",
        "\n",
        "    🎁 Bonus inside for first 100 downloads.\n",
        "\n",
        "    💬 Real buyers say:\n",
        "\n",
        "    \"I wish I had this sooner.\"\n",
        "    \"It’s worth 10x the price.\"\n",
        "\n",
        "    🛒 Ready to stop guessing and start winning?\n",
        "\n",
        "    Click Buy Now. You won’t regret it.\n",
        "\n",
        "    Instant access. No waiting. No BS.\n",
        "</speak>\n",
        "\"\"\"\n",
        "    # Using an Expressive Neural Voice for speaking styles and a professional tone\n",
        "    voice = \"en-US_MichaelExpressive\"\n",
        "    full_url = f\"{url}/v1/synthesize?voice={voice}\"\n",
        "\n",
        "    # Prepare authentication (Basic Auth with API Key)\n",
        "    auth_string = f\"apikey:{api_key}\"\n",
        "    encoded_auth = base64.b64encode(auth_string.encode(\"utf-8\")).decode(\"utf-8\")\n",
        "\n",
        "    # Headers for the API call\n",
        "    headers = {\n",
        "        \"Content-Type\": \"application/json\",\n",
        "        \"Accept\": \"audio/wav\",\n",
        "        \"Authorization\": f\"Basic {encoded_auth}\"\n",
        "    }\n",
        "\n",
        "    # Create the JSON payload\n",
        "    payload = {\n",
        "        \"text\": ssml_text\n",
        "    }\n",
        "\n",
        "    print(f\"Synthesizing audio for ad text...\")\n",
        "    try:\n",
        "        response = requests.post(full_url, headers=headers, data=json.dumps(payload), stream=True)\n",
        "        response.raise_for_status()  # Raise an HTTPError for bad responses (4xx or 5xx)\n",
        "\n",
        "        # Save the audio file\n",
        "        with open(output_filename, 'wb') as audio_file:\n",
        "            for chunk in response.iter_content(chunk_size=1024):\n",
        "                audio_file.write(chunk)\n",
        "\n",
        "        print(f\"Audio saved to '{output_filename}'\")\n",
        "    except requests.exceptions.RequestException as e:\n",
        "        print(f\"Error during API call: {e}\")\n",
        "        if response is not None:\n",
        "            print(f\"Status Code: {response.status_code}\")\n",
        "            print(f\"Response Body: {response.text}\")\n",
        "\n",
        "# --- How to run this code in a Python environment like Google Colab ---\n",
        "if __name__ == '__main__':\n",
        "    # You must provide your own API key and URL here.\n",
        "    # Replace \"YOUR_API_KEY\" and \"YOUR_URL\" with your actual credentials.\n",
        "    # Note: The script is already configured with your API key and URL for this example.\n",
        "    api_key_placeholder = \"{Your API Key}"\n",
        "    url_placeholder = \"{Your URL service key}"\n",
        "\n",
        "    convert_ad_to_speech(api_key=api_key_placeholder, url=url_placeholder, output_filename=\"instagram_ad_natural.wav\")\n"
      ],
      "metadata": {
        "colab": {
          "base_uri": "https://localhost:8080/",
          "height": 0
        },
        "id": "26G9dmni57s4",
        "outputId": "6e9c2cd1-f90b-4345-d395-17597f12edab"
      },
      "execution_count": 14,
      "outputs": [
        {
          "output_type": "stream",
          "name": "stdout",
          "text": [
            "Synthesizing audio for ad text...\n",
            "Audio saved to 'instagram_ad_natural.wav'\n"
          ]
        }
      ]
    },
    {
      "cell_type": "code",
      "source": [],
      "metadata": {
        "id": "SK1VemLdBEop"
      },
      "execution_count": null,
      "outputs": []
    }
  ]
}
